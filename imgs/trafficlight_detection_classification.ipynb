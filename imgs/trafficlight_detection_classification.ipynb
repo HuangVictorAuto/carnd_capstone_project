{
  "nbformat": 4,
  "nbformat_minor": 0,
  "metadata": {
    "colab": {
      "name": "trafficlight_detection_classification.ipynb",
      "provenance": [],
      "collapsed_sections": []
    },
    "kernelspec": {
      "name": "python3",
      "display_name": "Python 3"
    },
    "accelerator": "GPU"
  },
  "cells": [
    {
      "cell_type": "code",
      "metadata": {
        "id": "2iBu9fDnFbPt",
        "colab_type": "code",
        "colab": {}
      },
      "source": [
        "# install tensorflow-gpu\n",
        "!pip install tensorflow-gpu==1.13.2\n",
        "\n",
        "# install other dependencies\n",
        "!pip install cython contextlib2 pillow lxml jupyter matplotlib\n",
        "\n",
        "!pip install pandas opencv-python tensorboardcolab"
      ],
      "execution_count": 0,
      "outputs": []
    },
    {
      "cell_type": "code",
      "metadata": {
        "id": "g4mRzq8dLHSG",
        "colab_type": "code",
        "colab": {}
      },
      "source": [
        "# add Libraries to PYTHONPATH\n",
        "import os\n",
        "os.environ['PYTHONPATH']+=\":/content/drive/My Drive/tensorflow/models/\"\n",
        "os.environ['PYTHONPATH']+=\":/content/drive/My Drive/tensorflow/models/research/\"\n",
        "os.environ['PYTHONPATH']+=\":/content/drive/My Drive/tensorflow/models/research/slim/\"\n",
        "!echo $PYTHONPATH\n",
        "\n",
        "import sys\n",
        "sys.path.append('/content/drive/My Drive/tensorflow/models/')\n",
        "sys.path.append('/content/drive/My Drive/tensorflow/models/research/')\n",
        "sys.path.append('/content/drive/My Drive/tensorflow/models/research/slim/')\n",
        "print(sys.path)"
      ],
      "execution_count": 0,
      "outputs": []
    },
    {
      "cell_type": "code",
      "metadata": {
        "id": "_egpv2LHdQlM",
        "colab_type": "code",
        "colab": {}
      },
      "source": [
        "import os\n",
        "os.chdir('/content/drive/My Drive/tensorflow/models/research/')\n",
        "!python setup.py build\n",
        "!python setup.py install"
      ],
      "execution_count": 0,
      "outputs": []
    },
    {
      "cell_type": "code",
      "metadata": {
        "id": "TakPhPUqQEz4",
        "colab_type": "code",
        "colab": {}
      },
      "source": [
        "# #convert the xml file to csv file\n",
        "!python xml_to_csv.py"
      ],
      "execution_count": 0,
      "outputs": []
    },
    {
      "cell_type": "code",
      "metadata": {
        "id": "xrJgHcc9cRGc",
        "colab_type": "code",
        "colab": {}
      },
      "source": [
        "#convert the images and csv file to tf record for train\n",
        "!python generate_tfrecord.py --csv_input=/content/drive/My\\ Drive/tensorflow/models/research/object_detection/images/train_labels.csv --image_dir=/content/drive/My\\ Drive/tensorflow/models/research/object_detection/images/train --output_path=/content/drive/My\\ Drive/tensorflow/models/research/object_detection/train.record\n",
        "!python generate_tfrecord.py --csv_input=/content/drive/My\\ Drive/tensorflow/models/research/object_detection/images/test_labels.csv --image_dir=/content/drive/My\\ Drive/tensorflow/models/research/object_detection/images/test --output_path=/content/drive/My\\ Drive/tensorflow/models/research/object_detection/test.record"
      ],
      "execution_count": 0,
      "outputs": []
    },
    {
      "cell_type": "code",
      "metadata": {
        "id": "AclLHHvgDLYi",
        "colab_type": "code",
        "colab": {}
      },
      "source": [
        "#change to object_detection directory\n",
        "import os\n",
        "os.chdir('/content/drive/My Drive/tensorflow/models/research/object_detection')"
      ],
      "execution_count": 0,
      "outputs": []
    },
    {
      "cell_type": "code",
      "metadata": {
        "id": "3lsQEp_JmvfN",
        "colab_type": "code",
        "colab": {}
      },
      "source": [
        "#train the model\n",
        "# %%capture\n",
        "!python legacy/train.py --logtostderr --train_dir=training/ --pipeline_config_path=training/faster_rcnn_resnet50_coco.config"
      ],
      "execution_count": 0,
      "outputs": []
    },
    {
      "cell_type": "code",
      "metadata": {
        "id": "yiHMbW3JW3sv",
        "colab_type": "code",
        "colab": {}
      },
      "source": [
        "from tensorflow import summary\n",
        "%reload_ext tensorboard.notebook\n",
        "%tensorboard --logdir=\"/content/drive/My Drive/tensorflow/models/research/object_detection/training\""
      ],
      "execution_count": 0,
      "outputs": []
    },
    {
      "cell_type": "code",
      "metadata": {
        "id": "FCcN3CvnnWQg",
        "colab_type": "code",
        "colab": {}
      },
      "source": [
        "#export the graph to inference_graph folder\n",
        "!python export_inference_graph.py --input_type image_tensor --pipeline_config_path training/faster_rcnn_resnet50_coco.config --trained_checkpoint_prefix training/model.ckpt-39158 --output_directory inference_graph"
      ],
      "execution_count": 0,
      "outputs": []
    },
    {
      "cell_type": "code",
      "metadata": {
        "id": "vfgK5Eg-poCV",
        "colab_type": "code",
        "colab": {}
      },
      "source": [
        "#evaluate the trained model\n",
        "!python legacy/eval.py --logtostderr --checkpoint_dir=inference_graph --pipeline_config_path=training/faster_rcnn_resnet50_coco.config --eval_dir=eval_dir"
      ],
      "execution_count": 0,
      "outputs": []
    },
    {
      "cell_type": "code",
      "metadata": {
        "id": "RkWJoNBl0Fpj",
        "colab_type": "code",
        "colab": {}
      },
      "source": [
        "#use my classifier\n",
        "import os\n",
        "os.chdir('/content/drive/My Drive/tensorflow/models/research/object_detection')\n",
        "%matplotlib inline\n",
        "from matplotlib import pyplot as plt\n",
        "!python my_Object_detection_image.py\n",
        "\n",
        "\n"
      ],
      "execution_count": 0,
      "outputs": []
    },
    {
      "cell_type": "code",
      "metadata": {
        "id": "b0tvRKcqFoVv",
        "colab_type": "code",
        "colab": {}
      },
      "source": [
        ""
      ],
      "execution_count": 0,
      "outputs": []
    }
  ]
}